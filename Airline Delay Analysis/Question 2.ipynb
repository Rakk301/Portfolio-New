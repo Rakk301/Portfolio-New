{
 "cells": [
  {
   "cell_type": "markdown",
   "id": "497ab24f",
   "metadata": {},
   "source": [
    "### Importing Libraries :\n"
   ]
  },
  {
   "cell_type": "code",
   "execution_count": 1,
   "id": "76ce0d9c",
   "metadata": {},
   "outputs": [],
   "source": [
    "import pandas as pd\n",
    "import numpy as np\n",
    "import matplotlib.pyplot as plt\n",
    "import seaborn as sns"
   ]
  },
  {
   "cell_type": "markdown",
   "id": "31a099af",
   "metadata": {},
   "source": [
    "### Data Reading and Cleaning : "
   ]
  },
  {
   "cell_type": "code",
   "execution_count": 2,
   "id": "f857fe07",
   "metadata": {},
   "outputs": [],
   "source": [
    "flight_05 = pd.read_csv('/Users/rak/Desktop/2005.csv')\n",
    "flight_06 = pd.read_csv('/Users/rak/Desktop/2006.csv')\n",
    "flight_07 = pd.read_csv('/Users/rak/Desktop/2007.csv')\n",
    "flight_08 = pd.read_csv('/Users/rak/Desktop/2008.csv')\n",
    "airports = pd.read_csv('/Users/rak/Desktop/airports.csv')\n",
    "carriers = pd.read_csv('/Users/rak/Desktop/carriers.csv')\n",
    "plane_data = pd.read_csv('/Users/rak/Desktop/plane-data.csv')"
   ]
  },
  {
   "cell_type": "code",
   "execution_count": 3,
   "id": "a206b9ed",
   "metadata": {},
   "outputs": [
    {
     "name": "stdout",
     "output_type": "stream",
     "text": [
      "(7140596, 29)\n",
      "(7141922, 29)\n",
      "(7453215, 29)\n",
      "(2389217, 29)\n"
     ]
    }
   ],
   "source": [
    "print(flight_05.shape)\n",
    "print(flight_06.shape)\n",
    "print(flight_07.shape)\n",
    "print(flight_08.shape)"
   ]
  },
  {
   "cell_type": "code",
   "execution_count": 4,
   "id": "9bb06a1a",
   "metadata": {},
   "outputs": [],
   "source": [
    "#Dropping rows with cancelled or diverted flights:\n",
    "\n",
    "flight_05=flight_05[flight_05['Cancelled']==0] \n",
    "flight_05=flight_05[flight_05['Diverted']==0] \n",
    "\n",
    "flight_06=flight_06[flight_06['Cancelled']==0] \n",
    "flight_06=flight_06[flight_06['Diverted']==0] \n",
    "\n",
    "flight_07=flight_07[flight_07['Cancelled']==0] \n",
    "flight_07=flight_07[flight_07['Diverted']==0] "
   ]
  },
  {
   "cell_type": "code",
   "execution_count": 5,
   "id": "7df3548c",
   "metadata": {},
   "outputs": [],
   "source": [
    "#Merging the Dataframes:\n",
    "\n",
    "flight_data = pd.concat([flight_05, flight_06, flight_07],ignore_index=True)"
   ]
  },
  {
   "cell_type": "code",
   "execution_count": 6,
   "id": "15a9f68e",
   "metadata": {},
   "outputs": [
    {
     "data": {
      "text/plain": [
       "(21271928, 29)"
      ]
     },
     "execution_count": 6,
     "metadata": {},
     "output_type": "execute_result"
    }
   ],
   "source": [
    "flight_data.shape"
   ]
  },
  {
   "cell_type": "code",
   "execution_count": 7,
   "id": "3356af64",
   "metadata": {},
   "outputs": [],
   "source": [
    "flight_data['DepTime'] = pd.to_datetime(flight_data['DepTime'], format='%H%M', errors='coerce')\n",
    "flight_data['ArrTime'] = pd.to_datetime(flight_data['ArrTime'], format='%H%M', errors='coerce')"
   ]
  },
  {
   "cell_type": "markdown",
   "id": "7306bed8",
   "metadata": {},
   "source": [
    "### Question 2 :"
   ]
  },
  {
   "cell_type": "code",
   "execution_count": 10,
   "id": "94dc4271",
   "metadata": {},
   "outputs": [
    {
     "data": {
      "text/plain": [
       "tailnum            0\n",
       "type             549\n",
       "manufacturer     549\n",
       "issue_date       549\n",
       "model            549\n",
       "status           549\n",
       "aircraft_type    549\n",
       "engine_type      549\n",
       "year             549\n",
       "dtype: int64"
      ]
     },
     "execution_count": 10,
     "metadata": {},
     "output_type": "execute_result"
    }
   ],
   "source": [
    "# Checking for null values in plane data\n",
    "plane_data.isna().sum()"
   ]
  },
  {
   "cell_type": "code",
   "execution_count": 29,
   "id": "0a9e2022",
   "metadata": {},
   "outputs": [],
   "source": [
    "# Dropping rows with null values\n",
    "plane_data = plane_data.dropna()"
   ]
  },
  {
   "cell_type": "code",
   "execution_count": 30,
   "id": "f20fad05",
   "metadata": {},
   "outputs": [
    {
     "data": {
      "text/plain": [
       "TailNum          0\n",
       "type             0\n",
       "manufacturer     0\n",
       "issue_date       0\n",
       "model            0\n",
       "status           0\n",
       "aircraft_type    0\n",
       "engine_type      0\n",
       "year             0\n",
       "dtype: int64"
      ]
     },
     "execution_count": 30,
     "metadata": {},
     "output_type": "execute_result"
    }
   ],
   "source": [
    "# Checking for null values again\n",
    "plane_data.isna().sum()"
   ]
  },
  {
   "cell_type": "code",
   "execution_count": 31,
   "id": "434291e7",
   "metadata": {},
   "outputs": [],
   "source": [
    "\n",
    "# rename 'Year' column in flight_data to 'FlightYear' to avoid confusion\n",
    "flight_data.rename(columns={'Year': 'FlightYear'}, inplace=True)\n",
    "\n",
    "# rename 'tailnum' in plane_data to 'TailNum' so it matches corresponding column in flight_data\n",
    "plane_data = plane_data.rename(columns={'tailnum': 'TailNum'})"
   ]
  },
  {
   "cell_type": "code",
   "execution_count": 32,
   "id": "a29efa20",
   "metadata": {},
   "outputs": [],
   "source": [
    "# merge the two datasets on 'TailNum'\n",
    "merged_data = pd.merge(flight_data, plane_data, on='TailNum', how='left')"
   ]
  },
  {
   "cell_type": "code",
   "execution_count": 33,
   "id": "6a128a6d",
   "metadata": {},
   "outputs": [
    {
     "data": {
      "text/plain": [
       "(21271928, 37)"
      ]
     },
     "execution_count": 33,
     "metadata": {},
     "output_type": "execute_result"
    }
   ],
   "source": [
    "merged_data.shape"
   ]
  },
  {
   "cell_type": "code",
   "execution_count": 34,
   "id": "ac22b6e8",
   "metadata": {},
   "outputs": [
    {
     "data": {
      "text/plain": [
       "FlightYear                  0\n",
       "Month                       0\n",
       "DayofMonth                  0\n",
       "DayOfWeek                   0\n",
       "DepTime                 17937\n",
       "CRSDepTime                  0\n",
       "ArrTime                 78123\n",
       "CRSArrTime                  0\n",
       "UniqueCarrier               0\n",
       "FlightNum                   0\n",
       "TailNum                     0\n",
       "ActualElapsedTime           0\n",
       "CRSElapsedTime              0\n",
       "AirTime                     0\n",
       "ArrDelay                    0\n",
       "DepDelay                    0\n",
       "Origin                      0\n",
       "Dest                        0\n",
       "Distance                    0\n",
       "TaxiIn                      0\n",
       "TaxiOut                     0\n",
       "Cancelled                   0\n",
       "CancellationCode     21271926\n",
       "Diverted                    0\n",
       "CarrierDelay                0\n",
       "WeatherDelay                0\n",
       "NASDelay                    0\n",
       "SecurityDelay               0\n",
       "LateAircraftDelay           0\n",
       "type                  4290640\n",
       "manufacturer          4290640\n",
       "issue_date            4290640\n",
       "model                 4290640\n",
       "status                4290640\n",
       "aircraft_type         4290640\n",
       "engine_type           4290640\n",
       "year                  4290640\n",
       "dtype: int64"
      ]
     },
     "execution_count": 34,
     "metadata": {},
     "output_type": "execute_result"
    }
   ],
   "source": [
    "merged_data.isna().sum()"
   ]
  },
  {
   "cell_type": "code",
   "execution_count": 28,
   "id": "49e2c964",
   "metadata": {},
   "outputs": [
    {
     "data": {
      "text/plain": [
       "(1, 37)"
      ]
     },
     "execution_count": 28,
     "metadata": {},
     "output_type": "execute_result"
    }
   ],
   "source": [
    "merged_data.shape"
   ]
  },
  {
   "cell_type": "code",
   "execution_count": 35,
   "id": "f1593791",
   "metadata": {},
   "outputs": [],
   "source": [
    "merged_data=merged_data[merged_data['type'].isnull()==False]"
   ]
  },
  {
   "cell_type": "code",
   "execution_count": 38,
   "id": "f89fb9a2",
   "metadata": {},
   "outputs": [
    {
     "data": {
      "text/plain": [
       "FlightYear                  0\n",
       "Month                       0\n",
       "DayofMonth                  0\n",
       "DayOfWeek                   0\n",
       "DepTime                 15554\n",
       "CRSDepTime                  0\n",
       "ArrTime                 65121\n",
       "CRSArrTime                  0\n",
       "UniqueCarrier               0\n",
       "FlightNum                   0\n",
       "TailNum                     0\n",
       "ActualElapsedTime           0\n",
       "CRSElapsedTime              0\n",
       "AirTime                     0\n",
       "ArrDelay                    0\n",
       "DepDelay                    0\n",
       "Origin                      0\n",
       "Dest                        0\n",
       "Distance                    0\n",
       "TaxiIn                      0\n",
       "TaxiOut                     0\n",
       "Cancelled                   0\n",
       "CancellationCode     16981286\n",
       "Diverted                    0\n",
       "CarrierDelay                0\n",
       "WeatherDelay                0\n",
       "NASDelay                    0\n",
       "SecurityDelay               0\n",
       "LateAircraftDelay           0\n",
       "type                        0\n",
       "manufacturer                0\n",
       "issue_date                  0\n",
       "model                       0\n",
       "status                      0\n",
       "aircraft_type               0\n",
       "engine_type                 0\n",
       "year                        0\n",
       "dtype: int64"
      ]
     },
     "execution_count": 38,
     "metadata": {},
     "output_type": "execute_result"
    }
   ],
   "source": [
    "merged_data.isna().sum()"
   ]
  },
  {
   "cell_type": "code",
   "execution_count": 39,
   "id": "11728531",
   "metadata": {},
   "outputs": [],
   "source": [
    "plane_age_data = merged_data[['FlightYear','year', 'ArrDelay', 'DepDelay', 'TailNum']]"
   ]
  },
  {
   "cell_type": "code",
   "execution_count": 40,
   "id": "5651bb78",
   "metadata": {},
   "outputs": [
    {
     "data": {
      "text/plain": [
       "(16981288, 5)"
      ]
     },
     "execution_count": 40,
     "metadata": {},
     "output_type": "execute_result"
    }
   ],
   "source": [
    "plane_age_data.shape"
   ]
  },
  {
   "cell_type": "code",
   "execution_count": 41,
   "id": "32a777c5",
   "metadata": {},
   "outputs": [
    {
     "data": {
      "text/html": [
       "<div>\n",
       "<style scoped>\n",
       "    .dataframe tbody tr th:only-of-type {\n",
       "        vertical-align: middle;\n",
       "    }\n",
       "\n",
       "    .dataframe tbody tr th {\n",
       "        vertical-align: top;\n",
       "    }\n",
       "\n",
       "    .dataframe thead th {\n",
       "        text-align: right;\n",
       "    }\n",
       "</style>\n",
       "<table border=\"1\" class=\"dataframe\">\n",
       "  <thead>\n",
       "    <tr style=\"text-align: right;\">\n",
       "      <th></th>\n",
       "      <th>FlightYear</th>\n",
       "      <th>year</th>\n",
       "      <th>ArrDelay</th>\n",
       "      <th>DepDelay</th>\n",
       "      <th>TailNum</th>\n",
       "    </tr>\n",
       "  </thead>\n",
       "  <tbody>\n",
       "    <tr>\n",
       "      <th>0</th>\n",
       "      <td>2005</td>\n",
       "      <td>1992</td>\n",
       "      <td>-18.0</td>\n",
       "      <td>-2.0</td>\n",
       "      <td>N935UA</td>\n",
       "    </tr>\n",
       "    <tr>\n",
       "      <th>1</th>\n",
       "      <td>2005</td>\n",
       "      <td>1992</td>\n",
       "      <td>-23.0</td>\n",
       "      <td>-6.0</td>\n",
       "      <td>N941UA</td>\n",
       "    </tr>\n",
       "    <tr>\n",
       "      <th>2</th>\n",
       "      <td>2005</td>\n",
       "      <td>1988</td>\n",
       "      <td>-24.0</td>\n",
       "      <td>-7.0</td>\n",
       "      <td>N342UA</td>\n",
       "    </tr>\n",
       "    <tr>\n",
       "      <th>3</th>\n",
       "      <td>2005</td>\n",
       "      <td>1988</td>\n",
       "      <td>-33.0</td>\n",
       "      <td>-9.0</td>\n",
       "      <td>N326UA</td>\n",
       "    </tr>\n",
       "    <tr>\n",
       "      <th>4</th>\n",
       "      <td>2005</td>\n",
       "      <td>1990</td>\n",
       "      <td>3.0</td>\n",
       "      <td>34.0</td>\n",
       "      <td>N902UA</td>\n",
       "    </tr>\n",
       "    <tr>\n",
       "      <th>...</th>\n",
       "      <td>...</td>\n",
       "      <td>...</td>\n",
       "      <td>...</td>\n",
       "      <td>...</td>\n",
       "      <td>...</td>\n",
       "    </tr>\n",
       "    <tr>\n",
       "      <th>21271923</th>\n",
       "      <td>2007</td>\n",
       "      <td>1992</td>\n",
       "      <td>13.0</td>\n",
       "      <td>-7.0</td>\n",
       "      <td>N670DN</td>\n",
       "    </tr>\n",
       "    <tr>\n",
       "      <th>21271924</th>\n",
       "      <td>2007</td>\n",
       "      <td>2000</td>\n",
       "      <td>5.0</td>\n",
       "      <td>11.0</td>\n",
       "      <td>N829MH</td>\n",
       "    </tr>\n",
       "    <tr>\n",
       "      <th>21271925</th>\n",
       "      <td>2007</td>\n",
       "      <td>1987</td>\n",
       "      <td>15.0</td>\n",
       "      <td>-1.0</td>\n",
       "      <td>N623DL</td>\n",
       "    </tr>\n",
       "    <tr>\n",
       "      <th>21271926</th>\n",
       "      <td>2007</td>\n",
       "      <td>1990</td>\n",
       "      <td>36.0</td>\n",
       "      <td>38.0</td>\n",
       "      <td>N970DL</td>\n",
       "    </tr>\n",
       "    <tr>\n",
       "      <th>21271927</th>\n",
       "      <td>2007</td>\n",
       "      <td>1987</td>\n",
       "      <td>33.0</td>\n",
       "      <td>24.0</td>\n",
       "      <td>N628DL</td>\n",
       "    </tr>\n",
       "  </tbody>\n",
       "</table>\n",
       "<p>16981288 rows × 5 columns</p>\n",
       "</div>"
      ],
      "text/plain": [
       "          FlightYear  year  ArrDelay  DepDelay TailNum\n",
       "0               2005  1992     -18.0      -2.0  N935UA\n",
       "1               2005  1992     -23.0      -6.0  N941UA\n",
       "2               2005  1988     -24.0      -7.0  N342UA\n",
       "3               2005  1988     -33.0      -9.0  N326UA\n",
       "4               2005  1990       3.0      34.0  N902UA\n",
       "...              ...   ...       ...       ...     ...\n",
       "21271923        2007  1992      13.0      -7.0  N670DN\n",
       "21271924        2007  2000       5.0      11.0  N829MH\n",
       "21271925        2007  1987      15.0      -1.0  N623DL\n",
       "21271926        2007  1990      36.0      38.0  N970DL\n",
       "21271927        2007  1987      33.0      24.0  N628DL\n",
       "\n",
       "[16981288 rows x 5 columns]"
      ]
     },
     "execution_count": 41,
     "metadata": {},
     "output_type": "execute_result"
    }
   ],
   "source": [
    "plane_age_data"
   ]
  },
  {
   "cell_type": "code",
   "execution_count": 43,
   "id": "01eb06e4",
   "metadata": {},
   "outputs": [
    {
     "name": "stderr",
     "output_type": "stream",
     "text": [
      "/var/folders/cg/q2v373c11dv1r9z3pywl94xm0000gn/T/ipykernel_20165/1785596324.py:1: SettingWithCopyWarning: \n",
      "A value is trying to be set on a copy of a slice from a DataFrame.\n",
      "Try using .loc[row_indexer,col_indexer] = value instead\n",
      "\n",
      "See the caveats in the documentation: https://pandas.pydata.org/pandas-docs/stable/user_guide/indexing.html#returning-a-view-versus-a-copy\n",
      "  plane_age_data['TotalDelay']=plane_age_data['ArrDelay']+plane_age_data['DepDelay']\n"
     ]
    }
   ],
   "source": [
    "plane_age_data['TotalDelay']=plane_age_data['ArrDelay']+plane_age_data['DepDelay']"
   ]
  },
  {
   "cell_type": "code",
   "execution_count": 44,
   "id": "421d2930",
   "metadata": {},
   "outputs": [
    {
     "name": "stderr",
     "output_type": "stream",
     "text": [
      "/var/folders/cg/q2v373c11dv1r9z3pywl94xm0000gn/T/ipykernel_20165/1149292794.py:1: SettingWithCopyWarning: \n",
      "A value is trying to be set on a copy of a slice from a DataFrame.\n",
      "Try using .loc[row_indexer,col_indexer] = value instead\n",
      "\n",
      "See the caveats in the documentation: https://pandas.pydata.org/pandas-docs/stable/user_guide/indexing.html#returning-a-view-versus-a-copy\n",
      "  plane_age_data['isDelay'] = plane_age_data['TotalDelay'].apply(lambda x: 1 if x > 0 else 0)\n"
     ]
    }
   ],
   "source": [
    "plane_age_data['isDelay'] = plane_age_data['TotalDelay'].apply(lambda x: 1 if x > 0 else 0)"
   ]
  },
  {
   "cell_type": "code",
   "execution_count": 54,
   "id": "c1c9b94a",
   "metadata": {},
   "outputs": [
    {
     "name": "stdout",
     "output_type": "stream",
     "text": [
      "<class 'pandas.core.frame.DataFrame'>\n",
      "Int64Index: 16981288 entries, 0 to 21271927\n",
      "Data columns (total 7 columns):\n",
      " #   Column      Dtype  \n",
      "---  ------      -----  \n",
      " 0   FlightYear  int64  \n",
      " 1   year        object \n",
      " 2   ArrDelay    float64\n",
      " 3   DepDelay    float64\n",
      " 4   TailNum     object \n",
      " 5   TotalDelay  float64\n",
      " 6   isDelay     int64  \n",
      "dtypes: float64(3), int64(2), object(2)\n",
      "memory usage: 1.0+ GB\n"
     ]
    }
   ],
   "source": [
    "plane_age_data.info()"
   ]
  },
  {
   "cell_type": "code",
   "execution_count": 65,
   "id": "e137a692",
   "metadata": {},
   "outputs": [],
   "source": [
    "plane_age_data = plane_age_data.replace('None', np.nan)\n",
    "plane_age_data = plane_age_data.replace(0, np.nan)\n",
    "plane_age_data = plane_age_data.dropna(subset=['year'])"
   ]
  },
  {
   "cell_type": "code",
   "execution_count": 67,
   "id": "075e5d3e",
   "metadata": {},
   "outputs": [],
   "source": [
    "plane_age_data['year']=plane_age_data['year'].astype(int)"
   ]
  },
  {
   "cell_type": "code",
   "execution_count": 68,
   "id": "901fce16",
   "metadata": {},
   "outputs": [],
   "source": [
    "plane_age_data['Plane_age'] = plane_age_data['FlightYear'] - plane_age_data['year']"
   ]
  },
  {
   "cell_type": "code",
   "execution_count": 69,
   "id": "4a98cb93",
   "metadata": {},
   "outputs": [
    {
     "data": {
      "text/html": [
       "<div>\n",
       "<style scoped>\n",
       "    .dataframe tbody tr th:only-of-type {\n",
       "        vertical-align: middle;\n",
       "    }\n",
       "\n",
       "    .dataframe tbody tr th {\n",
       "        vertical-align: top;\n",
       "    }\n",
       "\n",
       "    .dataframe thead th {\n",
       "        text-align: right;\n",
       "    }\n",
       "</style>\n",
       "<table border=\"1\" class=\"dataframe\">\n",
       "  <thead>\n",
       "    <tr style=\"text-align: right;\">\n",
       "      <th></th>\n",
       "      <th>FlightYear</th>\n",
       "      <th>year</th>\n",
       "      <th>ArrDelay</th>\n",
       "      <th>DepDelay</th>\n",
       "      <th>TailNum</th>\n",
       "      <th>TotalDelay</th>\n",
       "      <th>isDelay</th>\n",
       "      <th>Plane_age</th>\n",
       "    </tr>\n",
       "  </thead>\n",
       "  <tbody>\n",
       "    <tr>\n",
       "      <th>0</th>\n",
       "      <td>2005.0</td>\n",
       "      <td>1992</td>\n",
       "      <td>-18.0</td>\n",
       "      <td>-2.0</td>\n",
       "      <td>N935UA</td>\n",
       "      <td>-20.0</td>\n",
       "      <td>NaN</td>\n",
       "      <td>13.0</td>\n",
       "    </tr>\n",
       "    <tr>\n",
       "      <th>1</th>\n",
       "      <td>2005.0</td>\n",
       "      <td>1992</td>\n",
       "      <td>-23.0</td>\n",
       "      <td>-6.0</td>\n",
       "      <td>N941UA</td>\n",
       "      <td>-29.0</td>\n",
       "      <td>NaN</td>\n",
       "      <td>13.0</td>\n",
       "    </tr>\n",
       "    <tr>\n",
       "      <th>2</th>\n",
       "      <td>2005.0</td>\n",
       "      <td>1988</td>\n",
       "      <td>-24.0</td>\n",
       "      <td>-7.0</td>\n",
       "      <td>N342UA</td>\n",
       "      <td>-31.0</td>\n",
       "      <td>NaN</td>\n",
       "      <td>17.0</td>\n",
       "    </tr>\n",
       "    <tr>\n",
       "      <th>3</th>\n",
       "      <td>2005.0</td>\n",
       "      <td>1988</td>\n",
       "      <td>-33.0</td>\n",
       "      <td>-9.0</td>\n",
       "      <td>N326UA</td>\n",
       "      <td>-42.0</td>\n",
       "      <td>NaN</td>\n",
       "      <td>17.0</td>\n",
       "    </tr>\n",
       "    <tr>\n",
       "      <th>4</th>\n",
       "      <td>2005.0</td>\n",
       "      <td>1990</td>\n",
       "      <td>3.0</td>\n",
       "      <td>34.0</td>\n",
       "      <td>N902UA</td>\n",
       "      <td>37.0</td>\n",
       "      <td>1.0</td>\n",
       "      <td>15.0</td>\n",
       "    </tr>\n",
       "    <tr>\n",
       "      <th>...</th>\n",
       "      <td>...</td>\n",
       "      <td>...</td>\n",
       "      <td>...</td>\n",
       "      <td>...</td>\n",
       "      <td>...</td>\n",
       "      <td>...</td>\n",
       "      <td>...</td>\n",
       "      <td>...</td>\n",
       "    </tr>\n",
       "    <tr>\n",
       "      <th>21271923</th>\n",
       "      <td>2007.0</td>\n",
       "      <td>1992</td>\n",
       "      <td>13.0</td>\n",
       "      <td>-7.0</td>\n",
       "      <td>N670DN</td>\n",
       "      <td>6.0</td>\n",
       "      <td>1.0</td>\n",
       "      <td>15.0</td>\n",
       "    </tr>\n",
       "    <tr>\n",
       "      <th>21271924</th>\n",
       "      <td>2007.0</td>\n",
       "      <td>2000</td>\n",
       "      <td>5.0</td>\n",
       "      <td>11.0</td>\n",
       "      <td>N829MH</td>\n",
       "      <td>16.0</td>\n",
       "      <td>1.0</td>\n",
       "      <td>7.0</td>\n",
       "    </tr>\n",
       "    <tr>\n",
       "      <th>21271925</th>\n",
       "      <td>2007.0</td>\n",
       "      <td>1987</td>\n",
       "      <td>15.0</td>\n",
       "      <td>-1.0</td>\n",
       "      <td>N623DL</td>\n",
       "      <td>14.0</td>\n",
       "      <td>1.0</td>\n",
       "      <td>20.0</td>\n",
       "    </tr>\n",
       "    <tr>\n",
       "      <th>21271926</th>\n",
       "      <td>2007.0</td>\n",
       "      <td>1990</td>\n",
       "      <td>36.0</td>\n",
       "      <td>38.0</td>\n",
       "      <td>N970DL</td>\n",
       "      <td>74.0</td>\n",
       "      <td>1.0</td>\n",
       "      <td>17.0</td>\n",
       "    </tr>\n",
       "    <tr>\n",
       "      <th>21271927</th>\n",
       "      <td>2007.0</td>\n",
       "      <td>1987</td>\n",
       "      <td>33.0</td>\n",
       "      <td>24.0</td>\n",
       "      <td>N628DL</td>\n",
       "      <td>57.0</td>\n",
       "      <td>1.0</td>\n",
       "      <td>20.0</td>\n",
       "    </tr>\n",
       "  </tbody>\n",
       "</table>\n",
       "<p>16486749 rows × 8 columns</p>\n",
       "</div>"
      ],
      "text/plain": [
       "          FlightYear  year  ArrDelay  DepDelay TailNum  TotalDelay  isDelay  \\\n",
       "0             2005.0  1992     -18.0      -2.0  N935UA       -20.0      NaN   \n",
       "1             2005.0  1992     -23.0      -6.0  N941UA       -29.0      NaN   \n",
       "2             2005.0  1988     -24.0      -7.0  N342UA       -31.0      NaN   \n",
       "3             2005.0  1988     -33.0      -9.0  N326UA       -42.0      NaN   \n",
       "4             2005.0  1990       3.0      34.0  N902UA        37.0      1.0   \n",
       "...              ...   ...       ...       ...     ...         ...      ...   \n",
       "21271923      2007.0  1992      13.0      -7.0  N670DN         6.0      1.0   \n",
       "21271924      2007.0  2000       5.0      11.0  N829MH        16.0      1.0   \n",
       "21271925      2007.0  1987      15.0      -1.0  N623DL        14.0      1.0   \n",
       "21271926      2007.0  1990      36.0      38.0  N970DL        74.0      1.0   \n",
       "21271927      2007.0  1987      33.0      24.0  N628DL        57.0      1.0   \n",
       "\n",
       "          Plane_age  \n",
       "0              13.0  \n",
       "1              13.0  \n",
       "2              17.0  \n",
       "3              17.0  \n",
       "4              15.0  \n",
       "...             ...  \n",
       "21271923       15.0  \n",
       "21271924        7.0  \n",
       "21271925       20.0  \n",
       "21271926       17.0  \n",
       "21271927       20.0  \n",
       "\n",
       "[16486749 rows x 8 columns]"
      ]
     },
     "execution_count": 69,
     "metadata": {},
     "output_type": "execute_result"
    }
   ],
   "source": [
    "plane_age_data"
   ]
  },
  {
   "cell_type": "code",
   "execution_count": 76,
   "id": "ef532b81",
   "metadata": {},
   "outputs": [
    {
     "data": {
      "image/png": "[encoded data removed]",
      "text/plain": [
       "<Figure size 720x576 with 1 Axes>"
      ]
     },
     "metadata": {
      "needs_background": "light"
     },
     "output_type": "display_data"
    }
   ],
   "source": [
    "# create a figure object with a larger size\n",
    "fig, ax = plt.subplots(figsize=(10, 8))\n",
    "\n",
    "# create a scatter plot with TotalDelay on the y-axis and PlaneAge on the x-axis\n",
    "ax.scatter(plane_age_data['Plane_age'], plane_age_data['TotalDelay'])\n",
    "\n",
    "# add axis labels and a title\n",
    "ax.set_xlabel('Plane Age')\n",
    "ax.set_ylabel('Total Delay (minutes)')\n",
    "ax.set_title('Total Delay vs. Plane Age')\n",
    "\n",
    "# display the plot\n",
    "plt.show()"
   ]
  },
  {
   "cell_type": "code",
   "execution_count": 79,
   "id": "72ac09d0",
   "metadata": {},
   "outputs": [],
   "source": [
    "yearly_data = plane_age_data.groupby('Plane_age')['TotalDelay'].mean().reset_index()"
   ]
  },
  {
   "cell_type": "code",
   "execution_count": 88,
   "id": "b29aae99",
   "metadata": {},
   "outputs": [
    {
     "data": {
      "image/png": "[encoded data removed]",
      "text/plain": [
       "<Figure size 432x288 with 1 Axes>"
      ]
     },
     "metadata": {
      "needs_background": "light"
     },
     "output_type": "display_data"
    }
   ],
   "source": [
    "# create a scatter plot with Year on the x-axis and the mean delay time on the y-axis\n",
    "plt.scatter(yearly_data['Plane_age'], yearly_data['TotalDelay'])\n",
    "# add axis labels and a title\n",
    "plt.xlabel('Age')\n",
    "plt.ylabel('Mean Delay Time (minutes)')\n",
    "plt.title('Mean Delay Time by Age of Plane')\n",
    "\n",
    "# display the plot\n",
    "plt.show()"
   ]
  },
  {
   "cell_type": "code",
   "execution_count": 87,
   "id": "dc138072",
   "metadata": {},
   "outputs": [
    {
     "name": "stdout",
     "output_type": "stream",
     "text": [
      "The correlation coefficient between the age of a plane and Total Delay is: 0.0057\n"
     ]
    }
   ],
   "source": [
    "correlation_coefficient = plane_age_data['Plane_age'].corr(plane_age_data['TotalDelay']).round(4)\n",
    "\n",
    "print(f\"The correlation coefficient between the age of a plane and Total Delay is: {correlation_coefficient}\")"
   ]
  },
  {
   "cell_type": "code",
   "execution_count": 113,
   "id": "75fb8bed",
   "metadata": {},
   "outputs": [],
   "source": [
    "plane_age_data['age_group'] = pd.cut(plane_age_data['Plane_age'], bins=range(0, 60, 5))\n",
    "delay_percentage = plane_age_data.groupby('age_group')['isDelay'].sum() / plane_age_data.groupby('age_group')['isDelay'].size() * 100"
   ]
  },
  {
   "cell_type": "code",
   "execution_count": 114,
   "id": "e43e990d",
   "metadata": {},
   "outputs": [
    {
     "data": {
      "text/plain": [
       "age_group\n",
       "(0, 5]      45.325654\n",
       "(5, 10]     45.648529\n",
       "(10, 15]    46.957317\n",
       "(15, 20]    47.547737\n",
       "(20, 25]    48.551580\n",
       "(25, 30]    48.640315\n",
       "(30, 35]    48.070406\n",
       "(35, 40]    44.054496\n",
       "(40, 45]    45.272223\n",
       "(45, 50]    43.991240\n",
       "(50, 55]    49.242424\n",
       "Name: isDelay, dtype: float64"
      ]
     },
     "execution_count": 114,
     "metadata": {},
     "output_type": "execute_result"
    }
   ],
   "source": [
    "delay_percentage"
   ]
  },
  {
   "cell_type": "code",
   "execution_count": 117,
   "id": "cdc5d4cc",
   "metadata": {},
   "outputs": [
    {
     "data": {
      "image/png": "[encoded data removed]",
      "text/plain": [
       "<Figure size 432x288 with 1 Axes>"
      ]
     },
     "metadata": {
      "needs_background": "light"
     },
     "output_type": "display_data"
    }
   ],
   "source": [
    "ax = delay_percentage.plot(x='age_group', y='isDelay', kind='bar')\n",
    "\n",
    "ax.set_xlabel('Plane Age Group')\n",
    "ax.set_ylabel('Percentage of Delayed Flights')\n",
    "plt.show()"
   ]
  },
  {
   "cell_type": "code",
   "execution_count": 120,
   "id": "f1901642",
   "metadata": {},
   "outputs": [
    {
     "data": {
      "image/png": "[encoded data removed]",
      "text/plain": [
       "<Figure size 720x432 with 1 Axes>"
      ]
     },
     "metadata": {
      "needs_background": "light"
     },
     "output_type": "display_data"
    }
   ],
   "source": [
    "# create a bar plot to show the percentages\n",
    "ax = delay_percentage.plot.bar(width=0.8, figsize=(10, 6))\n",
    "\n",
    "# set the title and axis labels\n",
    "ax.set_title('Percentage of Delayed Flights Across Plane Age')\n",
    "ax.set_xlabel('Plane Age Group')\n",
    "ax.set_ylabel('Percentage of Delayed Flights')\n",
    "\n",
    "# add the percentages on the bars\n",
    "for i in ax.patches:\n",
    "    ax.annotate(f'{i.get_height():.2f}%', (i.get_x() + i.get_width()/2, i.get_height()), ha='center', va='center', xytext=(0, 5), textcoords='offset points')\n",
    "\n",
    "# display the plot\n",
    "plt.show()"
   ]
  },
  {
   "cell_type": "code",
   "execution_count": null,
   "id": "bb5416c2",
   "metadata": {},
   "outputs": [],
   "source": []
  }
 ],
 "metadata": {
  "kernelspec": {
   "display_name": "Python 3 (ipykernel)",
   "language": "python",
   "name": "python3"
  },
  "language_info": {
   "codemirror_mode": {
    "name": "ipython",
    "version": 3
   },
   "file_extension": ".py",
   "mimetype": "text/x-python",
   "name": "python",
   "nbconvert_exporter": "python",
   "pygments_lexer": "ipython3",
   "version": "3.9.12"
  }
 },
 "nbformat": 4,
 "nbformat_minor": 5
}
